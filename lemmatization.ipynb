{
 "cells": [
  {
   "cell_type": "code",
   "execution_count": 8,
   "id": "5bb14625",
   "metadata": {},
   "outputs": [],
   "source": [
    "import nltk\n",
    "from nltk.stem import WordNetLemmatizer\n",
    "lemmatizer = WordNetLemmatizer()"
   ]
  },
  {
   "cell_type": "code",
   "execution_count": 9,
   "id": "f256f4bd",
   "metadata": {},
   "outputs": [
    {
     "name": "stderr",
     "output_type": "stream",
     "text": [
      "[nltk_data] Downloading package wordnet to\n",
      "[nltk_data]     C:\\Users\\ADMIN\\AppData\\Roaming\\nltk_data...\n",
      "[nltk_data]   Package wordnet is already up-to-date!\n",
      "[nltk_data] Downloading package omw-1.4 to\n",
      "[nltk_data]     C:\\Users\\ADMIN\\AppData\\Roaming\\nltk_data...\n",
      "[nltk_data]   Package omw-1.4 is already up-to-date!\n"
     ]
    },
    {
     "data": {
      "text/plain": [
       "True"
      ]
     },
     "execution_count": 9,
     "metadata": {},
     "output_type": "execute_result"
    }
   ],
   "source": [
    "nltk.download('wordnet')          # ✅ WordNet dictionary\n",
    "nltk.download('omw-1.4')          # ✅ Optional, improves lemmatization"
   ]
  },
  {
   "cell_type": "code",
   "execution_count": 10,
   "id": "4663044c",
   "metadata": {},
   "outputs": [],
   "source": [
    "words = [\"running\", \"runs\", \"ran\", \"easily\", \"fairly\", \n",
    "    \"studies\", \"studying\", \"studied\", \"happier\", \"happiness\",\n",
    "    \"flies\", \"flying\", \"played\", \"playing\", \"plays\",\n",
    "    \"bigger\", \"biggest\", \"caring\", \"cares\", \"cared\"]"
   ]
  },
  {
   "cell_type": "code",
   "execution_count": 11,
   "id": "0baa056b",
   "metadata": {},
   "outputs": [
    {
     "name": "stdout",
     "output_type": "stream",
     "text": [
      "running----->run\n",
      "runs----->run\n",
      "ran----->run\n",
      "easily----->easily\n",
      "fairly----->fairly\n",
      "studies----->study\n",
      "studying----->study\n",
      "studied----->study\n",
      "happier----->happier\n",
      "happiness----->happiness\n",
      "flies----->fly\n",
      "flying----->fly\n",
      "played----->play\n",
      "playing----->play\n",
      "plays----->play\n",
      "bigger----->bigger\n",
      "biggest----->biggest\n",
      "caring----->care\n",
      "cares----->care\n",
      "cared----->care\n",
      "['run', 'easily', 'fairly', 'study', 'happier', 'happiness', 'fly', 'play', 'bigger', 'biggest', 'care']\n"
     ]
    }
   ],
   "source": [
    "lemmatized_words = []\n",
    "for word in words:\n",
    "    lemmatized = lemmatizer.lemmatize(word, pos='v')\n",
    "    print(word+\"----->\"+lemmatized)\n",
    "    if lemmatized not in lemmatized_words:\n",
    "        lemmatized_words.append(lemmatized)\n",
    "print(lemmatized_words)"
   ]
  }
 ],
 "metadata": {
  "kernelspec": {
   "display_name": ".venv",
   "language": "python",
   "name": "python3"
  },
  "language_info": {
   "codemirror_mode": {
    "name": "ipython",
    "version": 3
   },
   "file_extension": ".py",
   "mimetype": "text/x-python",
   "name": "python",
   "nbconvert_exporter": "python",
   "pygments_lexer": "ipython3",
   "version": "3.13.3"
  }
 },
 "nbformat": 4,
 "nbformat_minor": 5
}
