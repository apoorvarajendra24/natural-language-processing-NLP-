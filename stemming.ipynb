{
 "cells": [
  {
   "cell_type": "code",
   "execution_count": 11,
   "id": "a1d5b55a",
   "metadata": {},
   "outputs": [],
   "source": [
    "# Stemming- reducing words to their base form by eliminating prefix or suffix.\n",
    "from nltk.stem import PorterStemmer\n",
    "stemmer = PorterStemmer()"
   ]
  },
  {
   "cell_type": "code",
   "execution_count": 12,
   "id": "a6e47cb3",
   "metadata": {},
   "outputs": [
    {
     "data": {
      "text/plain": [
       "20"
      ]
     },
     "execution_count": 12,
     "metadata": {},
     "output_type": "execute_result"
    }
   ],
   "source": [
    "words = [ \"running\", \"runs\", \"ran\", \"easily\", \"fairly\", \n",
    "    \"studies\", \"studying\", \"studied\", \"happier\", \"happiness\",\n",
    "    \"flies\", \"flying\", \"played\", \"playing\", \"plays\",\n",
    "    \"bigger\", \"biggest\", \"caring\", \"cares\", \"cared\"]\n",
    "len(words)"
   ]
  },
  {
   "cell_type": "code",
   "execution_count": 13,
   "id": "606edf89",
   "metadata": {},
   "outputs": [
    {
     "name": "stdout",
     "output_type": "stream",
     "text": [
      "running------>run\n",
      "runs------>run\n",
      "ran------>ran\n",
      "easily------>easili\n",
      "fairly------>fairli\n",
      "studies------>studi\n",
      "studying------>studi\n",
      "studied------>studi\n",
      "happier------>happier\n",
      "happiness------>happi\n",
      "flies------>fli\n",
      "flying------>fli\n",
      "played------>play\n",
      "playing------>play\n",
      "plays------>play\n",
      "bigger------>bigger\n",
      "biggest------>biggest\n",
      "caring------>care\n",
      "cares------>care\n",
      "cared------>care\n"
     ]
    }
   ],
   "source": [
    "stemmed_words = []\n",
    "for word in words:\n",
    "    stemmed = stemmer.stem(word)\n",
    "    print(word+\"------>\"+stemmed)\n",
    "    if stemmed not in stemmed_words:\n",
    "        stemmed_words.append(stemmed)"
   ]
  },
  {
   "cell_type": "code",
   "execution_count": 14,
   "id": "6cf04c9f",
   "metadata": {},
   "outputs": [
    {
     "data": {
      "text/plain": [
       "12"
      ]
     },
     "execution_count": 14,
     "metadata": {},
     "output_type": "execute_result"
    }
   ],
   "source": [
    "len(stemmed_words)\n",
    "\n",
    "# We impressively reduced the number of words to there actual base form which helps use less memory\n",
    "# also generalizes better treats similar words the same."
   ]
  },
  {
   "cell_type": "code",
   "execution_count": 15,
   "id": "e0b72e6f",
   "metadata": {},
   "outputs": [
    {
     "data": {
      "text/plain": [
       "'congratul'"
      ]
     },
     "execution_count": 15,
     "metadata": {},
     "output_type": "execute_result"
    }
   ],
   "source": [
    "stemmer.stem('congratulations')\n",
    "# Sometimes stemmed words have no meaning i.e, they do not exists in the dictionary."
   ]
  },
  {
   "cell_type": "code",
   "execution_count": 16,
   "id": "90c60006",
   "metadata": {},
   "outputs": [],
   "source": [
    "# RegexStemmer - Removes prefix or suffix if a certain regular expression matches the patter.\n",
    "from nltk.stem import RegexpStemmer\n",
    "reg_stemmer = RegexpStemmer(regexp='ing$|s$|e$|able$', min=4)\n",
    "\n",
    "# Here the regular expression eliminates the suffix which ends with ing, s, e or able. $ in the end means end of the line or word.\n",
    "# $ ----> metacharacter"
   ]
  },
  {
   "cell_type": "code",
   "execution_count": 17,
   "id": "ab160ddf",
   "metadata": {},
   "outputs": [
    {
     "data": {
      "text/plain": [
       "'eat'"
      ]
     },
     "execution_count": 17,
     "metadata": {},
     "output_type": "execute_result"
    }
   ],
   "source": [
    "reg_stemmer.stem('eating')"
   ]
  },
  {
   "cell_type": "code",
   "execution_count": 18,
   "id": "945693d9",
   "metadata": {},
   "outputs": [
    {
     "data": {
      "text/plain": [
       "'advis'"
      ]
     },
     "execution_count": 18,
     "metadata": {},
     "output_type": "execute_result"
    }
   ],
   "source": [
    "reg_stemmer.stem('advisable')"
   ]
  },
  {
   "cell_type": "code",
   "execution_count": 19,
   "id": "702d68b7",
   "metadata": {},
   "outputs": [],
   "source": [
    "# SnowballStemmer\n",
    "from nltk.stem import SnowballStemmer\n",
    "snowball_stemmer = SnowballStemmer('english')"
   ]
  },
  {
   "cell_type": "code",
   "execution_count": null,
   "id": "832af1a0",
   "metadata": {},
   "outputs": [
    {
     "name": "stdout",
     "output_type": "stream",
     "text": [
      "running------->run\n",
      "runs------->run\n",
      "ran------->ran\n",
      "easily------->easili\n",
      "fairly------->fair\n",
      "studies------->studi\n",
      "studying------->studi\n",
      "studied------->studi\n",
      "happier------->happier\n",
      "happiness------->happi\n",
      "flies------->fli\n",
      "flying------->fli\n",
      "played------->play\n",
      "playing------->play\n",
      "plays------->play\n",
      "bigger------->bigger\n",
      "biggest------->biggest\n",
      "caring------->care\n",
      "cares------->care\n",
      "cared------->care\n"
     ]
    }
   ],
   "source": [
    "for word in words:\n",
    "    print(word+\"------->\"+snowball_stemmer.stem(word))\n",
    "\n",
    "# Somewhat good accuracy than PorterStemmer, but still way to goo....."
   ]
  },
  {
   "cell_type": "code",
   "execution_count": 22,
   "id": "74f9be78",
   "metadata": {},
   "outputs": [],
   "source": [
    "# LancasterStemmer\n",
    "from nltk.stem import LancasterStemmer\n",
    "lancaster_stemmer = LancasterStemmer()"
   ]
  },
  {
   "cell_type": "code",
   "execution_count": 24,
   "id": "5f192890",
   "metadata": {},
   "outputs": [],
   "source": [
    "words_for_lancast = [\n",
    "    \"running\", \"runs\", \"ran\", \"easily\", \"fairly\",\n",
    "    \"studies\", \"studying\", \"studied\", \"happier\", \"happiness\",\n",
    "    \"flies\", \"flying\", \"played\", \"playing\", \"plays\",\n",
    "    \"bigger\", \"biggest\", \"caring\", \"cares\", \"cared\",\n",
    "    \"organization\", \"helpful\", \"agreed\", \"agreeing\", \"agreement\",\n",
    "    \"beauty\", \"beautiful\", \"emotion\", \"emotional\", \"emotionally\"\n",
    "]"
   ]
  },
  {
   "cell_type": "code",
   "execution_count": null,
   "id": "89362700",
   "metadata": {},
   "outputs": [
    {
     "name": "stdout",
     "output_type": "stream",
     "text": [
      "running → run\n",
      "runs → run\n",
      "ran → ran\n",
      "easily → easili\n",
      "fairly → fairli\n",
      "studies → studi\n",
      "studying → studi\n",
      "studied → studi\n",
      "happier → happier\n",
      "happiness → happi\n",
      "flies → fli\n",
      "flying → fli\n",
      "played → play\n",
      "playing → play\n",
      "plays → play\n",
      "bigger → bigger\n",
      "biggest → biggest\n",
      "caring → care\n",
      "cares → care\n",
      "cared → care\n",
      "organization → organ\n",
      "helpful → help\n",
      "agreed → agre\n",
      "agreeing → agre\n",
      "agreement → agreement\n",
      "beauty → beauti\n",
      "beautiful → beauti\n",
      "emotion → emot\n",
      "emotional → emot\n",
      "emotionally → emot\n"
     ]
    }
   ],
   "source": [
    "for word in words_for_lancast:\n",
    "    print(f\"{word} → {stemmer.stem(word)}\")\n",
    "\n",
    "# It is a more aggressive form of other stemmers."
   ]
  }
 ],
 "metadata": {
  "kernelspec": {
   "display_name": ".venv",
   "language": "python",
   "name": "python3"
  },
  "language_info": {
   "codemirror_mode": {
    "name": "ipython",
    "version": 3
   },
   "file_extension": ".py",
   "mimetype": "text/x-python",
   "name": "python",
   "nbconvert_exporter": "python",
   "pygments_lexer": "ipython3",
   "version": "3.13.3"
  }
 },
 "nbformat": 4,
 "nbformat_minor": 5
}
