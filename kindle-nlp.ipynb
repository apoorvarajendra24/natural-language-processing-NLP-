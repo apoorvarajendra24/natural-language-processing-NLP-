{
 "cells": [
  {
   "cell_type": "code",
   "execution_count": 1,
   "id": "ea65679e",
   "metadata": {},
   "outputs": [],
   "source": [
    "import pandas as pd"
   ]
  },
  {
   "cell_type": "code",
   "execution_count": 4,
   "id": "d3c49eb7",
   "metadata": {},
   "outputs": [
    {
     "data": {
      "text/html": [
       "<div>\n",
       "<style scoped>\n",
       "    .dataframe tbody tr th:only-of-type {\n",
       "        vertical-align: middle;\n",
       "    }\n",
       "\n",
       "    .dataframe tbody tr th {\n",
       "        vertical-align: top;\n",
       "    }\n",
       "\n",
       "    .dataframe thead th {\n",
       "        text-align: right;\n",
       "    }\n",
       "</style>\n",
       "<table border=\"1\" class=\"dataframe\">\n",
       "  <thead>\n",
       "    <tr style=\"text-align: right;\">\n",
       "      <th></th>\n",
       "      <th>reviewText</th>\n",
       "      <th>overall</th>\n",
       "      <th>rating</th>\n",
       "    </tr>\n",
       "  </thead>\n",
       "  <tbody>\n",
       "    <tr>\n",
       "      <th>0</th>\n",
       "      <td>I enjoy vintage books and movies so I enjoyed ...</td>\n",
       "      <td>5</td>\n",
       "      <td>1</td>\n",
       "    </tr>\n",
       "    <tr>\n",
       "      <th>1</th>\n",
       "      <td>This book is a reissue of an old one; the auth...</td>\n",
       "      <td>4</td>\n",
       "      <td>1</td>\n",
       "    </tr>\n",
       "    <tr>\n",
       "      <th>2</th>\n",
       "      <td>This was a fairly interesting read.  It had ol...</td>\n",
       "      <td>4</td>\n",
       "      <td>1</td>\n",
       "    </tr>\n",
       "    <tr>\n",
       "      <th>3</th>\n",
       "      <td>I'd never read any of the Amy Brewster mysteri...</td>\n",
       "      <td>5</td>\n",
       "      <td>1</td>\n",
       "    </tr>\n",
       "    <tr>\n",
       "      <th>4</th>\n",
       "      <td>If you like period pieces - clothing, lingo, y...</td>\n",
       "      <td>4</td>\n",
       "      <td>1</td>\n",
       "    </tr>\n",
       "    <tr>\n",
       "      <th>...</th>\n",
       "      <td>...</td>\n",
       "      <td>...</td>\n",
       "      <td>...</td>\n",
       "    </tr>\n",
       "    <tr>\n",
       "      <th>982592</th>\n",
       "      <td>Yasss hunny! This is a great read. That Dre is...</td>\n",
       "      <td>5</td>\n",
       "      <td>1</td>\n",
       "    </tr>\n",
       "    <tr>\n",
       "      <th>982593</th>\n",
       "      <td>I ENJOYED THIS BOOK FROM BEGINNING TO END NOW ...</td>\n",
       "      <td>5</td>\n",
       "      <td>1</td>\n",
       "    </tr>\n",
       "    <tr>\n",
       "      <th>982594</th>\n",
       "      <td>Great book! Cherika was a fool. She let that m...</td>\n",
       "      <td>5</td>\n",
       "      <td>1</td>\n",
       "    </tr>\n",
       "    <tr>\n",
       "      <th>982595</th>\n",
       "      <td>When I say this was an excellent book please b...</td>\n",
       "      <td>5</td>\n",
       "      <td>1</td>\n",
       "    </tr>\n",
       "    <tr>\n",
       "      <th>982596</th>\n",
       "      <td>This book was everything. I just hope Alexus w...</td>\n",
       "      <td>5</td>\n",
       "      <td>1</td>\n",
       "    </tr>\n",
       "  </tbody>\n",
       "</table>\n",
       "<p>982597 rows × 3 columns</p>\n",
       "</div>"
      ],
      "text/plain": [
       "                                               reviewText  overall  rating\n",
       "0       I enjoy vintage books and movies so I enjoyed ...        5       1\n",
       "1       This book is a reissue of an old one; the auth...        4       1\n",
       "2       This was a fairly interesting read.  It had ol...        4       1\n",
       "3       I'd never read any of the Amy Brewster mysteri...        5       1\n",
       "4       If you like period pieces - clothing, lingo, y...        4       1\n",
       "...                                                   ...      ...     ...\n",
       "982592  Yasss hunny! This is a great read. That Dre is...        5       1\n",
       "982593  I ENJOYED THIS BOOK FROM BEGINNING TO END NOW ...        5       1\n",
       "982594  Great book! Cherika was a fool. She let that m...        5       1\n",
       "982595  When I say this was an excellent book please b...        5       1\n",
       "982596  This book was everything. I just hope Alexus w...        5       1\n",
       "\n",
       "[982597 rows x 3 columns]"
      ]
     },
     "execution_count": 4,
     "metadata": {},
     "output_type": "execute_result"
    }
   ],
   "source": [
    "data = pd.read_csv(\"review-data.csv\", index_col=False)\n",
    "data"
   ]
  },
  {
   "cell_type": "code",
   "execution_count": 6,
   "id": "a2ce9aa2",
   "metadata": {},
   "outputs": [
    {
     "data": {
      "text/html": [
       "<div>\n",
       "<style scoped>\n",
       "    .dataframe tbody tr th:only-of-type {\n",
       "        vertical-align: middle;\n",
       "    }\n",
       "\n",
       "    .dataframe tbody tr th {\n",
       "        vertical-align: top;\n",
       "    }\n",
       "\n",
       "    .dataframe thead th {\n",
       "        text-align: right;\n",
       "    }\n",
       "</style>\n",
       "<table border=\"1\" class=\"dataframe\">\n",
       "  <thead>\n",
       "    <tr style=\"text-align: right;\">\n",
       "      <th></th>\n",
       "      <th>reviewText</th>\n",
       "      <th>overall</th>\n",
       "      <th>rating</th>\n",
       "    </tr>\n",
       "  </thead>\n",
       "  <tbody>\n",
       "    <tr>\n",
       "      <th>0</th>\n",
       "      <td>i enjoy vintage books and movies so i enjoyed ...</td>\n",
       "      <td>5</td>\n",
       "      <td>1</td>\n",
       "    </tr>\n",
       "    <tr>\n",
       "      <th>1</th>\n",
       "      <td>this book is a reissue of an old one; the auth...</td>\n",
       "      <td>4</td>\n",
       "      <td>1</td>\n",
       "    </tr>\n",
       "  </tbody>\n",
       "</table>\n",
       "</div>"
      ],
      "text/plain": [
       "                                          reviewText  overall  rating\n",
       "0  i enjoy vintage books and movies so i enjoyed ...        5       1\n",
       "1  this book is a reissue of an old one; the auth...        4       1"
      ]
     },
     "execution_count": 6,
     "metadata": {},
     "output_type": "execute_result"
    }
   ],
   "source": [
    "# Preprocessing the data\n",
    "data['reviewText'] = data.reviewText.str.lower()\n",
    "data.head(2)"
   ]
  },
  {
   "cell_type": "code",
   "execution_count": null,
   "id": "63bf3b3f",
   "metadata": {},
   "outputs": [
    {
     "data": {
      "text/plain": [
       "0         i enjoy vintage books and movies so i enjoyed ...\n",
       "1         this book is a reissue of an old one  the auth...\n",
       "2         this was a fairly interesting read   it had ol...\n",
       "3         i d never read any of the amy brewster mysteri...\n",
       "4         if you like period pieces   clothing  lingo  y...\n",
       "                                ...                        \n",
       "982592    yasss hunny  this is a great read  that dre is...\n",
       "982593    i enjoyed this book from beginning to end now ...\n",
       "982594    great book  cherika was a fool  she let that m...\n",
       "982595    when i say this was an excellent book please b...\n",
       "982596    this book was everything  i just hope alexus w...\n",
       "Name: reviewText, Length: 982597, dtype: object"
      ]
     },
     "execution_count": 7,
     "metadata": {},
     "output_type": "execute_result"
    }
   ],
   "source": [
    "# removing special characters \n",
    "import re\n",
    "\n",
    "data['reviewText'] = data['reviewText'].apply(lambda x: re.sub('[^a-zA-z0-9]',\" \",x))\n",
    "data['reviewText']\n"
   ]
  },
  {
   "cell_type": "code",
   "execution_count": 9,
   "id": "b2dddb6d",
   "metadata": {},
   "outputs": [],
   "source": [
    "import nltk\n",
    "from nltk.corpus import stopwords"
   ]
  },
  {
   "cell_type": "code",
   "execution_count": 18,
   "id": "6e46bac2",
   "metadata": {},
   "outputs": [
    {
     "data": {
      "text/plain": [
       "0         enjoy vintage books movies enjoyed reading boo...\n",
       "1         book reissue old one author born 1910 era say ...\n",
       "2         fairly interesting read old style terminology ...\n",
       "3         never read amy brewster mysteries one really h...\n",
       "4         like period pieces clothing lingo enjoy myster...\n",
       "                                ...                        \n",
       "982592    yasss hunny great read dre mess cherika refuse...\n",
       "982593    enjoyed book beginning end far lex hoe sneaky ...\n",
       "982594    great book cherika fool let man get away much ...\n",
       "982595    say excellent book please believe definitely p...\n",
       "982596    book everything hope alexus wise move lawd tho...\n",
       "Name: reviewText, Length: 982597, dtype: object"
      ]
     },
     "execution_count": 18,
     "metadata": {},
     "output_type": "execute_result"
    }
   ],
   "source": [
    "# Removing stopwords\n",
    "stop_words = set(stopwords.words('english'))\n",
    "data['reviewText'] = data['reviewText'].str.split().apply(lambda x: \" \".join([word for word in x if word not in stop_words]))\n",
    "data['reviewText']"
   ]
  },
  {
   "cell_type": "code",
   "execution_count": 21,
   "id": "dc4672a1",
   "metadata": {},
   "outputs": [
    {
     "data": {
      "text/html": [
       "<div>\n",
       "<style scoped>\n",
       "    .dataframe tbody tr th:only-of-type {\n",
       "        vertical-align: middle;\n",
       "    }\n",
       "\n",
       "    .dataframe tbody tr th {\n",
       "        vertical-align: top;\n",
       "    }\n",
       "\n",
       "    .dataframe thead th {\n",
       "        text-align: right;\n",
       "    }\n",
       "</style>\n",
       "<table border=\"1\" class=\"dataframe\">\n",
       "  <thead>\n",
       "    <tr style=\"text-align: right;\">\n",
       "      <th></th>\n",
       "      <th>reviewText</th>\n",
       "      <th>overall</th>\n",
       "      <th>rating</th>\n",
       "    </tr>\n",
       "  </thead>\n",
       "  <tbody>\n",
       "    <tr>\n",
       "      <th>556</th>\n",
       "      <td>even though giving blog three stars going keep...</td>\n",
       "      <td>3</td>\n",
       "      <td>1</td>\n",
       "    </tr>\n",
       "    <tr>\n",
       "      <th>618</th>\n",
       "      <td>reading reviews purchasing first series shocke...</td>\n",
       "      <td>3</td>\n",
       "      <td>1</td>\n",
       "    </tr>\n",
       "    <tr>\n",
       "      <th>3146</th>\n",
       "      <td>http www amazon com gp product b001u0q17k ref ...</td>\n",
       "      <td>5</td>\n",
       "      <td>1</td>\n",
       "    </tr>\n",
       "    <tr>\n",
       "      <th>5699</th>\n",
       "      <td>jake mcbride self made millionaire womanizer e...</td>\n",
       "      <td>5</td>\n",
       "      <td>1</td>\n",
       "    </tr>\n",
       "    <tr>\n",
       "      <th>6046</th>\n",
       "      <td>http www amazon com gp product b002hrf7wk ref ...</td>\n",
       "      <td>5</td>\n",
       "      <td>1</td>\n",
       "    </tr>\n",
       "    <tr>\n",
       "      <th>...</th>\n",
       "      <td>...</td>\n",
       "      <td>...</td>\n",
       "      <td>...</td>\n",
       "    </tr>\n",
       "    <tr>\n",
       "      <th>981652</th>\n",
       "      <td>jjjjjjoooooooooeeeeeeeeeee yep backstory going...</td>\n",
       "      <td>5</td>\n",
       "      <td>1</td>\n",
       "    </tr>\n",
       "    <tr>\n",
       "      <th>981801</th>\n",
       "      <td>despite would class girly book 5 read enjoyed ...</td>\n",
       "      <td>5</td>\n",
       "      <td>1</td>\n",
       "    </tr>\n",
       "    <tr>\n",
       "      <th>982323</th>\n",
       "      <td>come back second book dirty dark deadly series...</td>\n",
       "      <td>5</td>\n",
       "      <td>1</td>\n",
       "    </tr>\n",
       "    <tr>\n",
       "      <th>982460</th>\n",
       "      <td>find www morningbooksandcoffee comc p smith to...</td>\n",
       "      <td>5</td>\n",
       "      <td>1</td>\n",
       "    </tr>\n",
       "    <tr>\n",
       "      <th>982519</th>\n",
       "      <td>kindly given arc book spoiler free unless othe...</td>\n",
       "      <td>5</td>\n",
       "      <td>1</td>\n",
       "    </tr>\n",
       "  </tbody>\n",
       "</table>\n",
       "<p>1434 rows × 3 columns</p>\n",
       "</div>"
      ],
      "text/plain": [
       "                                               reviewText  overall  rating\n",
       "556     even though giving blog three stars going keep...        3       1\n",
       "618     reading reviews purchasing first series shocke...        3       1\n",
       "3146    http www amazon com gp product b001u0q17k ref ...        5       1\n",
       "5699    jake mcbride self made millionaire womanizer e...        5       1\n",
       "6046    http www amazon com gp product b002hrf7wk ref ...        5       1\n",
       "...                                                   ...      ...     ...\n",
       "981652  jjjjjjoooooooooeeeeeeeeeee yep backstory going...        5       1\n",
       "981801  despite would class girly book 5 read enjoyed ...        5       1\n",
       "982323  come back second book dirty dark deadly series...        5       1\n",
       "982460  find www morningbooksandcoffee comc p smith to...        5       1\n",
       "982519  kindly given arc book spoiler free unless othe...        5       1\n",
       "\n",
       "[1434 rows x 3 columns]"
      ]
     },
     "execution_count": 21,
     "metadata": {},
     "output_type": "execute_result"
    }
   ],
   "source": [
    "data[data['reviewText'].str.contains('www', case=False, na=False)]"
   ]
  },
  {
   "cell_type": "code",
   "execution_count": 24,
   "id": "7e5947b2",
   "metadata": {},
   "outputs": [],
   "source": [
    "# Remove urls\n",
    "data['reviewText'] = data['reviewText'].apply(lambda x: re.sub(r'http\\S+|www\\.\\S+|\\S+\\.\\S+','',x))"
   ]
  },
  {
   "cell_type": "code",
   "execution_count": 29,
   "id": "fbba574b",
   "metadata": {},
   "outputs": [],
   "source": [
    "# Removing html tags\n",
    "from bs4 import BeautifulSoup\n",
    "data['reviewText'] = data.reviewText.apply(lambda x: BeautifulSoup(x, \"html.parser\").get_text())"
   ]
  },
  {
   "cell_type": "code",
   "execution_count": 31,
   "id": "ccb3d64d",
   "metadata": {},
   "outputs": [],
   "source": [
    "data.reviewText = data.reviewText.apply(lambda x: \" \".join(x.split()))"
   ]
  },
  {
   "cell_type": "code",
   "execution_count": 32,
   "id": "fda08c68",
   "metadata": {},
   "outputs": [
    {
     "data": {
      "text/plain": [
       "0         enjoy vintage books movies enjoyed reading boo...\n",
       "1         book reissue old one author born 1910 era say ...\n",
       "2         fairly interesting read old style terminology ...\n",
       "3         never read amy brewster mysteries one really h...\n",
       "4         like period pieces clothing lingo enjoy myster...\n",
       "                                ...                        \n",
       "982592    yasss hunny great read dre mess cherika refuse...\n",
       "982593    enjoyed book beginning end far lex hoe sneaky ...\n",
       "982594    great book cherika fool let man get away much ...\n",
       "982595    say excellent book please believe definitely p...\n",
       "982596    book everything hope alexus wise move lawd tho...\n",
       "Name: reviewText, Length: 982597, dtype: object"
      ]
     },
     "execution_count": 32,
     "metadata": {},
     "output_type": "execute_result"
    }
   ],
   "source": [
    "data.reviewText"
   ]
  },
  {
   "cell_type": "code",
   "execution_count": 33,
   "id": "8e56150d",
   "metadata": {},
   "outputs": [],
   "source": [
    "# lemmatization\n",
    "from nltk.stem import WordNetLemmatizer\n",
    "lemmatizer = WordNetLemmatizer()"
   ]
  },
  {
   "cell_type": "code",
   "execution_count": 34,
   "id": "ccfbf5a6",
   "metadata": {},
   "outputs": [],
   "source": [
    "data['reviewText'] = data['reviewText'].apply(lambda x: \" \".join([lemmatizer.lemmatize(word) for word in x.split()]))"
   ]
  },
  {
   "cell_type": "code",
   "execution_count": 36,
   "id": "f76ba05a",
   "metadata": {},
   "outputs": [],
   "source": [
    "data['reviewText'] = data['reviewText'].apply(lambda x: lemmatizer.lemmatize(x))"
   ]
  },
  {
   "cell_type": "code",
   "execution_count": 37,
   "id": "d6729675",
   "metadata": {},
   "outputs": [
    {
     "data": {
      "text/plain": [
       "0         enjoy vintage book movie enjoyed reading book ...\n",
       "1         book reissue old one author born 1910 era say ...\n",
       "2         fairly interesting read old style terminology ...\n",
       "3         never read amy brewster mystery one really hooked\n",
       "4         like period piece clothing lingo enjoy mystery...\n",
       "                                ...                        \n",
       "982592    yasss hunny great read dre mess cherika refuse...\n",
       "982593    enjoyed book beginning end far lex hoe sneaky ...\n",
       "982594    great book cherika fool let man get away much ...\n",
       "982595    say excellent book please believe definitely p...\n",
       "982596    book everything hope alexus wise move lawd tho...\n",
       "Name: reviewText, Length: 982597, dtype: object"
      ]
     },
     "execution_count": 37,
     "metadata": {},
     "output_type": "execute_result"
    }
   ],
   "source": [
    "data['reviewText']"
   ]
  },
  {
   "cell_type": "code",
   "execution_count": 38,
   "id": "f1eb30ad",
   "metadata": {},
   "outputs": [],
   "source": [
    "# train test split\n",
    "from sklearn.model_selection import train_test_split\n",
    "X_train, X_test, y_train, y_test = train_test_split(data['reviewText'], data['rating'], test_size=0.30, random_state=42)"
   ]
  },
  {
   "cell_type": "code",
   "execution_count": 40,
   "id": "d5d809f9",
   "metadata": {},
   "outputs": [],
   "source": [
    "data.to_csv(\"cleaned-text-after-preprocessing.csv\", index=False)"
   ]
  }
 ],
 "metadata": {
  "kernelspec": {
   "display_name": "nlp-env",
   "language": "python",
   "name": "python3"
  },
  "language_info": {
   "codemirror_mode": {
    "name": "ipython",
    "version": 3
   },
   "file_extension": ".py",
   "mimetype": "text/x-python",
   "name": "python",
   "nbconvert_exporter": "python",
   "pygments_lexer": "ipython3",
   "version": "3.11.0"
  }
 },
 "nbformat": 4,
 "nbformat_minor": 5
}
