{
 "cells": [
  {
   "cell_type": "code",
   "execution_count": 14,
   "id": "4f7d0120",
   "metadata": {},
   "outputs": [],
   "source": [
    "# Tokenization - Converting text/corpus into smaller units say, sentences/words/characters.\n",
    "import nltk\n",
    "from nltk.tokenize import sent_tokenize"
   ]
  },
  {
   "cell_type": "code",
   "execution_count": 27,
   "id": "dc1f239a",
   "metadata": {},
   "outputs": [
    {
     "name": "stdout",
     "output_type": "stream",
     "text": [
      "Python is a powerful programming language.\n",
      "It is widely used in data science, web development, and automation.\n",
      "Many developers enjoy its simple and readable syntax.\n",
      "It's a great skill to have in this age.\n",
      "\n"
     ]
    }
   ],
   "source": [
    "# Corpus is a paragraph.\n",
    "corpus = \"\"\"Python is a powerful programming language.\n",
    "It is widely used in data science, web development, and automation.\n",
    "Many developers enjoy its simple and readable syntax.\n",
    "It's a great skill to have in this age.\n",
    "\"\"\"\n",
    "print(corpus)"
   ]
  },
  {
   "cell_type": "code",
   "execution_count": 28,
   "id": "4503d903",
   "metadata": {},
   "outputs": [
    {
     "data": {
      "text/plain": [
       "list"
      ]
     },
     "execution_count": 28,
     "metadata": {},
     "output_type": "execute_result"
    }
   ],
   "source": [
    "# Tokenize into sentences\n",
    "document = sent_tokenize(corpus)\n",
    "type(document)"
   ]
  },
  {
   "cell_type": "code",
   "execution_count": 29,
   "id": "d0e50bf2",
   "metadata": {},
   "outputs": [
    {
     "name": "stdout",
     "output_type": "stream",
     "text": [
      "['Python is a powerful programming language.', 'It is widely used in data science, web development, and automation.', 'Many developers enjoy its simple and readable syntax.', \"It's a great skill to have in this age.\"]\n"
     ]
    }
   ],
   "source": [
    "print(document)"
   ]
  },
  {
   "cell_type": "code",
   "execution_count": 30,
   "id": "195d42b0",
   "metadata": {},
   "outputs": [
    {
     "name": "stdout",
     "output_type": "stream",
     "text": [
      "Tokenized sentences:\n",
      "- Python is a powerful programming language.\n",
      "- It is widely used in data science, web development, and automation.\n",
      "- Many developers enjoy its simple and readable syntax.\n",
      "- It's a great skill to have in this age.\n"
     ]
    }
   ],
   "source": [
    "# Print results\n",
    "print(\"Tokenized sentences:\")\n",
    "for sentence in document:\n",
    "    print(\"-\", sentence)"
   ]
  },
  {
   "cell_type": "code",
   "execution_count": 31,
   "id": "0f50e55a",
   "metadata": {},
   "outputs": [],
   "source": [
    "# Tokenize to words\n",
    "from nltk.tokenize import word_tokenize"
   ]
  },
  {
   "cell_type": "code",
   "execution_count": 32,
   "id": "4785ca3b",
   "metadata": {},
   "outputs": [
    {
     "name": "stdout",
     "output_type": "stream",
     "text": [
      "['Python', 'is', 'a', 'powerful', 'programming', 'language', '.', 'It', 'is', 'widely', 'used', 'in', 'data', 'science', ',', 'web', 'development', ',', 'and', 'automation', '.', 'Many', 'developers', 'enjoy', 'its', 'simple', 'and', 'readable', 'syntax', '.', 'It', \"'s\", 'a', 'great', 'skill', 'to', 'have', 'in', 'this', 'age', '.']\n"
     ]
    }
   ],
   "source": [
    "words = word_tokenize(corpus)\n",
    "print(words)"
   ]
  },
  {
   "cell_type": "code",
   "execution_count": 33,
   "id": "924b4594",
   "metadata": {},
   "outputs": [
    {
     "name": "stdout",
     "output_type": "stream",
     "text": [
      "['Python', 'is', 'a', 'powerful', 'programming', 'language', '.']\n",
      "['It', 'is', 'widely', 'used', 'in', 'data', 'science', ',', 'web', 'development', ',', 'and', 'automation', '.']\n",
      "['Many', 'developers', 'enjoy', 'its', 'simple', 'and', 'readable', 'syntax', '.']\n",
      "['It', \"'s\", 'a', 'great', 'skill', 'to', 'have', 'in', 'this', 'age', '.']\n"
     ]
    }
   ],
   "source": [
    "# Tokenize from sentence to word\n",
    "for sentence in document:\n",
    "    #print(\"-\", word)\n",
    "    print(word_tokenize(sentence))"
   ]
  },
  {
   "cell_type": "code",
   "execution_count": 34,
   "id": "0f0a9ae1",
   "metadata": {},
   "outputs": [],
   "source": [
    "# Difference between word_tokenize and wordpunct_tokenize\n",
    "from nltk.tokenize import wordpunct_tokenize"
   ]
  },
  {
   "cell_type": "code",
   "execution_count": 39,
   "id": "e257964b",
   "metadata": {},
   "outputs": [
    {
     "name": "stdout",
     "output_type": "stream",
     "text": [
      "['Python', 'is', 'a', 'powerful', 'programming', 'language', '.', 'It', 'is', 'widely', 'used', 'in', 'data', 'science', ',', 'web', 'development', ',', 'and', 'automation', '.', 'Many', 'developers', 'enjoy', 'its', 'simple', 'and', 'readable', 'syntax', '.', 'It', \"'\", 's', 'a', 'great', 'skill', 'to', 'have', 'in', 'this', 'age', '.']\n"
     ]
    }
   ],
   "source": [
    "# Even the \"'\" is treated as a seperate character/token in \"'s\" but in word_tokenize \"'s\" is a single token.\n",
    "a = wordpunct_tokenize(corpus)\n",
    "print(a)"
   ]
  },
  {
   "cell_type": "code",
   "execution_count": 41,
   "id": "7a8f260d",
   "metadata": {},
   "outputs": [],
   "source": [
    "# Difference between all the tokenization method and treebankwordtokenizer\n",
    "from nltk.tokenize import TreebankWordTokenizer\n",
    "tokenizer = TreebankWordTokenizer()"
   ]
  },
  {
   "cell_type": "code",
   "execution_count": null,
   "id": "e867c32a",
   "metadata": {},
   "outputs": [
    {
     "name": "stdout",
     "output_type": "stream",
     "text": [
      "['Python', 'is', 'a', 'powerful', 'programming', 'language.', 'It', 'is', 'widely', 'used', 'in', 'data', 'science', ',', 'web', 'development', ',', 'and', 'automation.', 'Many', 'developers', 'enjoy', 'its', 'simple', 'and', 'readable', 'syntax.', 'It', \"'s\", 'a', 'great', 'skill', 'to', 'have', 'in', 'this', 'age', '.']\n"
     ]
    }
   ],
   "source": [
    "# Fullstop is not considered as a seperaate token unless its the last token of the whole paragraph. \n",
    "token = tokenizer.tokenize(corpus)\n",
    "print(token)"
   ]
  }
 ],
 "metadata": {
  "kernelspec": {
   "display_name": ".venv",
   "language": "python",
   "name": "python3"
  },
  "language_info": {
   "codemirror_mode": {
    "name": "ipython",
    "version": 3
   },
   "file_extension": ".py",
   "mimetype": "text/x-python",
   "name": "python",
   "nbconvert_exporter": "python",
   "pygments_lexer": "ipython3",
   "version": "3.13.3"
  }
 },
 "nbformat": 4,
 "nbformat_minor": 5
}
