{
 "cells": [
  {
   "cell_type": "code",
   "execution_count": 11,
   "id": "15f9fed8",
   "metadata": {},
   "outputs": [],
   "source": [
    "import nltk\n",
    "from nltk.tokenize import  sent_tokenize, word_tokenize"
   ]
  },
  {
   "cell_type": "code",
   "execution_count": 2,
   "id": "6541403c",
   "metadata": {},
   "outputs": [],
   "source": [
    "sentence = \"\"\"In 2011, Tim Cook took over as CEO of Apple Inc., headquartered in Cupertino, California, \n",
    "after Steve Jobs resigned due to health issues. \n",
    "Apple became the first U.S. company to reach a market capitalization of two trillion dollars in 2020.\"\"\""
   ]
  },
  {
   "cell_type": "code",
   "execution_count": 6,
   "id": "bc51eef2",
   "metadata": {},
   "outputs": [
    {
     "data": {
      "text/plain": [
       "[('In', 'IN'),\n",
       " ('2011', 'CD'),\n",
       " (',', ','),\n",
       " ('Tim', 'NNP'),\n",
       " ('Cook', 'NNP'),\n",
       " ('took', 'VBD'),\n",
       " ('over', 'RP'),\n",
       " ('as', 'IN'),\n",
       " ('CEO', 'NNP'),\n",
       " ('of', 'IN'),\n",
       " ('Apple', 'NNP'),\n",
       " ('Inc.', 'NNP'),\n",
       " (',', ','),\n",
       " ('headquartered', 'VBD'),\n",
       " ('in', 'IN'),\n",
       " ('Cupertino', 'NNP'),\n",
       " (',', ','),\n",
       " ('California', 'NNP'),\n",
       " (',', ','),\n",
       " ('after', 'IN'),\n",
       " ('Steve', 'NNP'),\n",
       " ('Jobs', 'NNP'),\n",
       " ('resigned', 'VBD'),\n",
       " ('due', 'JJ'),\n",
       " ('to', 'TO'),\n",
       " ('health', 'NN'),\n",
       " ('issues', 'NNS'),\n",
       " ('.', '.'),\n",
       " ('Apple', 'NNP'),\n",
       " ('became', 'VBD'),\n",
       " ('the', 'DT'),\n",
       " ('first', 'JJ'),\n",
       " ('U.S.', 'NNP'),\n",
       " ('company', 'NN'),\n",
       " ('to', 'TO'),\n",
       " ('reach', 'VB'),\n",
       " ('a', 'DT'),\n",
       " ('market', 'NN'),\n",
       " ('capitalization', 'NN'),\n",
       " ('of', 'IN'),\n",
       " ('two', 'CD'),\n",
       " ('trillion', 'CD'),\n",
       " ('dollars', 'NNS'),\n",
       " ('in', 'IN'),\n",
       " ('2020', 'CD'),\n",
       " ('.', '.')]"
      ]
     },
     "execution_count": 6,
     "metadata": {},
     "output_type": "execute_result"
    }
   ],
   "source": [
    "words = word_tokenize(sentence)\n",
    "tagged_words = nltk.pos_tag(words)\n",
    "tagged_words"
   ]
  },
  {
   "cell_type": "code",
   "execution_count": 14,
   "id": "086cb867",
   "metadata": {},
   "outputs": [
    {
     "name": "stderr",
     "output_type": "stream",
     "text": [
      "[nltk_data] Downloading package maxent_ne_chunker_tab to\n",
      "[nltk_data]     C:\\Users\\ADMIN\\AppData\\Roaming\\nltk_data...\n",
      "[nltk_data]   Package maxent_ne_chunker_tab is already up-to-date!\n",
      "[nltk_data] Downloading package words to\n",
      "[nltk_data]     C:\\Users\\ADMIN\\AppData\\Roaming\\nltk_data...\n",
      "[nltk_data]   Unzipping corpora\\words.zip.\n"
     ]
    },
    {
     "data": {
      "text/plain": [
       "True"
      ]
     },
     "execution_count": 14,
     "metadata": {},
     "output_type": "execute_result"
    }
   ],
   "source": [
    "nltk.download('maxent_ne_chunker_tab')\n",
    "nltk.download('words')"
   ]
  },
  {
   "cell_type": "code",
   "execution_count": 20,
   "id": "b94c6ff8",
   "metadata": {},
   "outputs": [],
   "source": [
    "tree = nltk.ne_chunk(tagged_words)"
   ]
  },
  {
   "cell_type": "code",
   "execution_count": 21,
   "id": "2318056c",
   "metadata": {},
   "outputs": [
    {
     "name": "stdout",
     "output_type": "stream",
     "text": [
      "PERSON Tim Cook\n",
      "ORGANIZATION CEO\n",
      "ORGANIZATION Apple Inc.\n",
      "GPE Cupertino\n",
      "GPE California\n",
      "PERSON Steve Jobs\n",
      "PERSON Apple\n",
      "GPE U.S.\n"
     ]
    }
   ],
   "source": [
    "for subtree in tree:\n",
    "    if hasattr(subtree, 'label'):\n",
    "        print(subtree.label(), ' '.join(c[0] for c in subtree))\n"
   ]
  }
 ],
 "metadata": {
  "kernelspec": {
   "display_name": ".venv",
   "language": "python",
   "name": "python3"
  },
  "language_info": {
   "codemirror_mode": {
    "name": "ipython",
    "version": 3
   },
   "file_extension": ".py",
   "mimetype": "text/x-python",
   "name": "python",
   "nbconvert_exporter": "python",
   "pygments_lexer": "ipython3",
   "version": "3.13.3"
  }
 },
 "nbformat": 4,
 "nbformat_minor": 5
}
