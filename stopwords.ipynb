{
 "cells": [
  {
   "cell_type": "code",
   "execution_count": 47,
   "id": "5ff040cc",
   "metadata": {},
   "outputs": [],
   "source": [
    "corpus = \"\"\"I have three visions for India. In 3000 years of our history people from all over the world have come and invaded us, captured our lands, conquered our minds.\n",
    "From Alexander onwards the Greeks, the Turks, the Moguls, the Portuguese, the British, the French, the Dutch, all of them came and looted us, took over what was ours. \n",
    "Yet we have not done this to any other nation. \n",
    "We have not conquered anyone. We have not grabbed their land, their culture and their history and tried to enforce our way of life on them. \n",
    "Why? Because we respect the freedom of others. \n",
    "That is why my first vision is that of freedom. I believe that India got its first vision of this in 1857, when we started the war of Independence. \n",
    "It is this freedom that we must protect and nurture and build on. \n",
    "If we are not free, no one will respect us.\n",
    "We have 10 percent growth rate in most areas. Our poverty levels are falling. Our achievements are being globally recognised today. \n",
    "Yet we lack the self-confidence to see ourselves as a developed nation, self-reliant and self-assured. Isn’t this incorrect? \n",
    "My second vision for India is development. For fifty years we have been a developing nation. It is time we see ourselves as a developed nation. \n",
    "We are among top five nations in the world in terms of GDP.\n",
    "I have a third vision. India must stand up to the world. Because I believe that unless India stands up to the world, no one will respect us. \n",
    "Only strength respects strength. We must be strong not only as a military power but also as an economic power. \n",
    "Both must go hand-in-hand. My good fortune was to have worked with three great minds. \n",
    "Dr.Vikram Sarabhai, of the Dept. of Space, Professor Satish Dhawan, who succeeded him and Dr. Brahm Prakash, father of nuclear material. \n",
    "I was lucky to have worked with all three of them closely and consider this the great opportunity of my life.\n",
    "I was in Hyderabad giving this lecture, when a 14 year-old girl asked me for my autograph. I asked her what her goal in life is. \n",
    "She replied: I want to live in a developed India. For her, you and I will have to build this developed India. \n",
    "You must proclaim India is not an underdeveloped nation; it is a highly developed nation.\n",
    "You say that our government is inefficient. You say that our laws are too old. You say that the municipality does not pick up the garbage. \n",
    "You say that the phones don’t work, the railways are a joke, the airline is the worst in the world, and mails never reach their destination. \n",
    "You say that our country has been fed to the dogs and is the absolute pits. You say, say and say. What do you do about it?\n",
    "\"\"\""
   ]
  },
  {
   "cell_type": "code",
   "execution_count": 20,
   "id": "b837c069",
   "metadata": {},
   "outputs": [],
   "source": [
    "import nltk\n",
    "from nltk.stem import PorterStemmer\n",
    "from nltk.corpus import stopwords"
   ]
  },
  {
   "cell_type": "code",
   "execution_count": 3,
   "id": "c67b8e57",
   "metadata": {},
   "outputs": [
    {
     "name": "stderr",
     "output_type": "stream",
     "text": [
      "[nltk_data] Downloading package stopwords to\n",
      "[nltk_data]     C:\\Users\\ADMIN\\AppData\\Roaming\\nltk_data...\n",
      "[nltk_data]   Unzipping corpora\\stopwords.zip.\n"
     ]
    },
    {
     "data": {
      "text/plain": [
       "True"
      ]
     },
     "execution_count": 3,
     "metadata": {},
     "output_type": "execute_result"
    }
   ],
   "source": [
    "nltk.download('stopwords')"
   ]
  },
  {
   "cell_type": "code",
   "execution_count": null,
   "id": "9d019798",
   "metadata": {},
   "outputs": [],
   "source": [
    "stopwords.words('english')"
   ]
  },
  {
   "cell_type": "code",
   "execution_count": 22,
   "id": "eb1fd346",
   "metadata": {},
   "outputs": [],
   "source": [
    "# First - Apply tokenization to convert para into sentences \n",
    "# then apply stopwords\n",
    "from nltk.tokenize import sent_tokenize, word_tokenize\n",
    "stemmer = PorterStemmer()"
   ]
  },
  {
   "cell_type": "code",
   "execution_count": 48,
   "id": "3cf3128a",
   "metadata": {},
   "outputs": [],
   "source": [
    "sentences = sent_tokenize(corpus)\n",
    "english_stopwords = set(stopwords.words('english'))"
   ]
  },
  {
   "cell_type": "code",
   "execution_count": 31,
   "id": "bdb11be4",
   "metadata": {},
   "outputs": [],
   "source": [
    "for i in range(len(sentences)):\n",
    "    words = word_tokenize(sentences[i])        # converting each sentence to word as we need to check whether its a stopword or not.\n",
    "    words = [stemmer.stem(word) for word in words if word not in english_stopwords] # stemm only those those not in english_stopwords.\n",
    "    sentences[i] = ' '.join(words)  # join the words back to sentence."
   ]
  },
  {
   "cell_type": "code",
   "execution_count": 25,
   "id": "5b40b67b",
   "metadata": {},
   "outputs": [
    {
     "data": {
      "text/plain": [
       "['i three vision india .',\n",
       " 'in 3000 year histori peopl world come invad us , captur land , conquer mind .',\n",
       " 'from alexand onward greek , turk , mogul , portugues , british , french , dutch , came loot us , took .',\n",
       " 'yet done nation .',\n",
       " 'we conquer anyon .',\n",
       " 'we grab land , cultur histori tri enforc way life .',\n",
       " 'whi ?',\n",
       " 'becaus respect freedom other .',\n",
       " 'that first vision freedom .',\n",
       " 'i believ india got first vision 1857 , start war independ .',\n",
       " 'it freedom must protect nurtur build .',\n",
       " 'if free , one respect us .',\n",
       " 'we 10 percent growth rate area .',\n",
       " 'our poverti level fall .',\n",
       " 'our achiev global recognis today .',\n",
       " 'yet lack self-confid see develop nation , self-reli self-assur .',\n",
       " 'isn ’ incorrect ?',\n",
       " 'my second vision india develop .',\n",
       " 'for fifti year develop nation .',\n",
       " 'it time see develop nation .',\n",
       " 'we among top five nation world term gdp .',\n",
       " 'i third vision .',\n",
       " 'india must stand world .',\n",
       " 'becaus i believ unless india stand world , one respect us .',\n",
       " 'onli strength respect strength .',\n",
       " 'we must strong militari power also econom power .',\n",
       " 'both must go hand-in-hand .',\n",
       " 'my good fortun work three great mind .',\n",
       " 'dr.vikram sarabhai , dept .',\n",
       " 'space , professor satish dhawan , succeed dr. brahm prakash , father nuclear materi .',\n",
       " 'i lucki work three close consid great opportun life .',\n",
       " 'i hyderabad give lectur , 14 year-old girl ask autograph .',\n",
       " 'i ask goal life .',\n",
       " 'she repli : i want live develop india .',\n",
       " 'for , i build develop india .',\n",
       " 'you must proclaim india underdevelop nation ; highli develop nation .',\n",
       " 'you say govern ineffici .',\n",
       " 'you say law old .',\n",
       " 'you say municip pick garbag .',\n",
       " 'you say phone ’ work , railway joke , airlin worst world , mail never reach destin .',\n",
       " 'you say countri fed dog absolut pit .',\n",
       " 'you say , say say .',\n",
       " 'what ?']"
      ]
     },
     "execution_count": 25,
     "metadata": {},
     "output_type": "execute_result"
    }
   ],
   "source": [
    "sentences"
   ]
  },
  {
   "cell_type": "code",
   "execution_count": 33,
   "id": "6046744c",
   "metadata": {},
   "outputs": [],
   "source": [
    "from nltk.stem import SnowballStemmer\n",
    "snowball_stemmer = SnowballStemmer('english')"
   ]
  },
  {
   "cell_type": "code",
   "execution_count": null,
   "id": "a438cb0f",
   "metadata": {},
   "outputs": [
    {
     "data": {
      "text/plain": [
       "['i three vision india .',\n",
       " 'in 3000 year histori peopl world come invad us , captur land , conquer mind .',\n",
       " 'from alexand onward greek , turk , mogul , portugues , british , french , dutch , came loot us , took .',\n",
       " 'yet done nation .',\n",
       " 'we conquer anyon .',\n",
       " 'we grab land , cultur histori tri enforc way life .',\n",
       " 'whi ?',\n",
       " 'becaus respect freedom other .',\n",
       " 'that first vision freedom .',\n",
       " 'i believ india got first vision 1857 , start war independ .',\n",
       " 'it freedom must protect nurtur build .',\n",
       " 'if free , one respect us .',\n",
       " 'we 10 percent growth rate area .',\n",
       " 'our poverti level fall .',\n",
       " 'our achiev global recognis today .',\n",
       " 'yet lack self-confid see develop nation , self-reli self-assur .',\n",
       " 'isn ’ incorrect ?',\n",
       " 'my second vision india develop .',\n",
       " 'for fifti year develop nation .',\n",
       " 'it time see develop nation .',\n",
       " 'we among top five nation world term gdp .',\n",
       " 'i third vision .',\n",
       " 'india must stand world .',\n",
       " 'becaus i believ unless india stand world , one respect us .',\n",
       " 'onli strength respect strength .',\n",
       " 'we must strong militari power also econom power .',\n",
       " 'both must go hand-in-hand .',\n",
       " 'my good fortun work three great mind .',\n",
       " 'dr.vikram sarabhai , dept .',\n",
       " 'space , professor satish dhawan , succeed dr. brahm prakash , father nuclear materi .',\n",
       " 'i lucki work three close consid great opportun life .',\n",
       " 'i hyderabad give lectur , 14 year-old girl ask autograph .',\n",
       " 'i ask goal life .',\n",
       " 'she repli : i want live develop india .',\n",
       " 'for , i build develop india .',\n",
       " 'you must proclaim india underdevelop nation ; high develop nation .',\n",
       " 'you say govern ineffici .',\n",
       " 'you say law old .',\n",
       " 'you say municip pick garbag .',\n",
       " 'you say phone ’ work , railway joke , airlin worst world , mail never reach destin .',\n",
       " 'you say countri fed dog absolut pit .',\n",
       " 'you say , say say .',\n",
       " 'what ?']"
      ]
     },
     "execution_count": 46,
     "metadata": {},
     "output_type": "execute_result"
    }
   ],
   "source": [
    "for i in range(len(sentences)):\n",
    "    words = word_tokenize(sentences[i])\n",
    "    words = [snowball_stemmer.stem(word) for word in words if word not in set(stopwords.words('english'))]\n",
    "    sentences[i] = \" \".join(words)\n",
    "\n",
    "sentences\n",
    "\n",
    "# One adv of snowball is it converts all words in lowercase."
   ]
  },
  {
   "cell_type": "code",
   "execution_count": 39,
   "id": "9e5e3da5",
   "metadata": {},
   "outputs": [],
   "source": [
    "from nltk.stem import WordNetLemmatizer\n",
    "lemmatizer = WordNetLemmatizer()"
   ]
  },
  {
   "cell_type": "code",
   "execution_count": 50,
   "id": "2eba84e6",
   "metadata": {},
   "outputs": [
    {
     "data": {
      "text/plain": [
       "['three visions india .',\n",
       " '3000 years history people world come invade us , capture land , conquer mind .',\n",
       " 'alexander onwards greeks , turks , moguls , portuguese , british , french , dutch , come loot us , take .',\n",
       " 'yet nation .',\n",
       " 'conquer anyone .',\n",
       " 'grab land , culture history try enforce way life .',\n",
       " '?',\n",
       " 'respect freedom others .',\n",
       " 'first vision freedom .',\n",
       " 'believe india get first vision 1857 , start war independence .',\n",
       " 'freedom must protect nurture build .',\n",
       " 'free , one respect us .',\n",
       " '10 percent growth rate areas .',\n",
       " 'poverty level fall .',\n",
       " 'achievements globally recognise today .',\n",
       " 'yet lack self-confidence see develop nation , self-reliant self-assured .',\n",
       " '’ incorrect ?',\n",
       " 'second vision india development .',\n",
       " 'fifty years develop nation .',\n",
       " 'time see develop nation .',\n",
       " 'among top five nations world term gdp .',\n",
       " 'third vision .',\n",
       " 'india must stand world .',\n",
       " 'believe unless india stand world , one respect us .',\n",
       " 'strength respect strength .',\n",
       " 'must strong military power also economic power .',\n",
       " 'must go hand-in-hand .',\n",
       " 'good fortune work three great mind .',\n",
       " 'dr.vikram sarabhai , dept .',\n",
       " 'space , professor satish dhawan , succeed dr. brahm prakash , father nuclear material .',\n",
       " 'lucky work three closely consider great opportunity life .',\n",
       " 'hyderabad give lecture , 14 year-old girl ask autograph .',\n",
       " 'ask goal life .',\n",
       " 'reply : want live develop india .',\n",
       " ', build develop india .',\n",
       " 'must proclaim india underdevelop nation ; highly develop nation .',\n",
       " 'say government inefficient .',\n",
       " 'say laws old .',\n",
       " 'say municipality pick garbage .',\n",
       " 'say phone ’ work , railways joke , airline worst world , mail never reach destination .',\n",
       " 'say country fee dog absolute pit .',\n",
       " 'say , say say .',\n",
       " '?']"
      ]
     },
     "execution_count": 50,
     "metadata": {},
     "output_type": "execute_result"
    }
   ],
   "source": [
    "for i in range(len(sentences)):\n",
    "    sentences[i] = sentences[i].lower()\n",
    "    words = word_tokenize(sentences[i])\n",
    "    words = [lemmatizer.lemmatize(word, pos='v') for word in words if word not in set(stopwords.words('english'))]\n",
    "    sentences[i] = \" \".join(words)\n",
    "\n",
    "sentences"
   ]
  },
  {
   "cell_type": "code",
   "execution_count": 53,
   "id": "09806f74",
   "metadata": {},
   "outputs": [
    {
     "name": "stdout",
     "output_type": "stream",
     "text": [
      "True\n"
     ]
    }
   ],
   "source": [
    "print(\"i\" in stopwords.words('english'))"
   ]
  }
 ],
 "metadata": {
  "kernelspec": {
   "display_name": ".venv",
   "language": "python",
   "name": "python3"
  },
  "language_info": {
   "codemirror_mode": {
    "name": "ipython",
    "version": 3
   },
   "file_extension": ".py",
   "mimetype": "text/x-python",
   "name": "python",
   "nbconvert_exporter": "python",
   "pygments_lexer": "ipython3",
   "version": "3.13.3"
  }
 },
 "nbformat": 4,
 "nbformat_minor": 5
}
