{
 "cells": [
  {
   "cell_type": "code",
   "execution_count": 2,
   "id": "511ddb16",
   "metadata": {},
   "outputs": [],
   "source": [
    "from nltk.wsd import lesk\n",
    "from nltk.tokenize import word_tokenize"
   ]
  },
  {
   "cell_type": "code",
   "execution_count": 4,
   "id": "b1adb148",
   "metadata": {},
   "outputs": [
    {
     "name": "stdout",
     "output_type": "stream",
     "text": [
      "a financial institution that accepts deposits and channels the money into lending activities\n",
      "Synset('depository_financial_institution.n.01')\n"
     ]
    }
   ],
   "source": [
    "sent = lesk(word_tokenize(\"He sat on the bank and watched the river flow past.\"),'bank')\n",
    "print(sent.definition())\n",
    "print(sent)"
   ]
  },
  {
   "cell_type": "code",
   "execution_count": 5,
   "id": "56b227eb",
   "metadata": {},
   "outputs": [
    {
     "name": "stdout",
     "output_type": "stream",
     "text": [
      "get stuck and immobilized\n",
      "Synset('jam.v.05')\n"
     ]
    }
   ],
   "source": [
    "sent = lesk(word_tokenize('''It is a heavy traffic jam here. \n",
    "We are stuck at same place.'''),'jam')\n",
    "print(sent.definition())\n",
    "print(sent)"
   ]
  },
  {
   "cell_type": "code",
   "execution_count": 6,
   "id": "838c0a56",
   "metadata": {},
   "outputs": [
    {
     "name": "stdout",
     "output_type": "stream",
     "text": [
      "a small constellation in the southern hemisphere near Phoenix\n",
      "Synset('grus.n.01')\n"
     ]
    }
   ],
   "source": [
    "sent = lesk(word_tokenize(\"The crane stood tall near the construction site.\"),\"crane\")\n",
    "print(sent.definition())\n",
    "print(sent)"
   ]
  },
  {
   "cell_type": "code",
   "execution_count": 7,
   "id": "51b7e382",
   "metadata": {},
   "outputs": [
    {
     "name": "stdout",
     "output_type": "stream",
     "text": [
      "prefer or wish to do something\n",
      "Synset('wish.v.02')\n"
     ]
    }
   ],
   "source": [
    "sent = lesk(word_tokenize('He like flowers.'),'like')\n",
    "print(sent.definition())\n",
    "print(sent)"
   ]
  },
  {
   "cell_type": "code",
   "execution_count": 8,
   "id": "2ef3334b",
   "metadata": {},
   "outputs": [
    {
     "name": "stdout",
     "output_type": "stream",
     "text": [
      "a kind of person\n",
      "Synset('like.n.02')\n"
     ]
    }
   ],
   "source": [
    "sent = lesk(word_tokenize('The association is like a bad combination'),'like')\n",
    "print(sent.definition())\n",
    "print(sent)"
   ]
  },
  {
   "cell_type": "code",
   "execution_count": 9,
   "id": "0b514e8a",
   "metadata": {},
   "outputs": [
    {
     "data": {
      "text/plain": [
       "'the club used in playing cricket'"
      ]
     },
     "execution_count": 9,
     "metadata": {},
     "output_type": "execute_result"
    }
   ],
   "source": [
    "sent = lesk(word_tokenize(\"He swung the bat and hit the ball out of the park.\"),\"bat\")\n",
    "sent.definition()"
   ]
  },
  {
   "cell_type": "code",
   "execution_count": 10,
   "id": "db6bec6d",
   "metadata": {},
   "outputs": [
    {
     "data": {
      "text/plain": [
       "Synset('cricket_bat.n.01')"
      ]
     },
     "execution_count": 10,
     "metadata": {},
     "output_type": "execute_result"
    }
   ],
   "source": [
    "sent"
   ]
  },
  {
   "cell_type": "code",
   "execution_count": 11,
   "id": "0634965a",
   "metadata": {},
   "outputs": [
    {
     "name": "stdout",
     "output_type": "stream",
     "text": [
      "[Synset('cricket_equipment.n.01')]\n"
     ]
    },
    {
     "data": {
      "text/plain": [
       "[Synset('cricket_bat.n.01')]"
      ]
     },
     "execution_count": 11,
     "metadata": {},
     "output_type": "execute_result"
    }
   ],
   "source": [
    "print(sent.hypernyms())\n",
    "sent.tree(rel=True)"
   ]
  }
 ],
 "metadata": {
  "kernelspec": {
   "display_name": "nlp-env",
   "language": "python",
   "name": "python3"
  },
  "language_info": {
   "codemirror_mode": {
    "name": "ipython",
    "version": 3
   },
   "file_extension": ".py",
   "mimetype": "text/x-python",
   "name": "python",
   "nbconvert_exporter": "python",
   "pygments_lexer": "ipython3",
   "version": "3.11.0"
  }
 },
 "nbformat": 4,
 "nbformat_minor": 5
}
