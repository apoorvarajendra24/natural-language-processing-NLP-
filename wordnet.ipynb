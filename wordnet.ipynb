{
 "cells": [
  {
   "cell_type": "code",
   "execution_count": 1,
   "id": "62de2618",
   "metadata": {},
   "outputs": [
    {
     "data": {
      "text/plain": [
       "<WordNetCorpusReader in 'C:\\\\Users\\\\ADMIN\\\\AppData\\\\Roaming\\\\nltk_data\\\\corpora\\\\wordnet.zip/wordnet/'>"
      ]
     },
     "execution_count": 1,
     "metadata": {},
     "output_type": "execute_result"
    }
   ],
   "source": [
    "from nltk.corpus import wordnet\n",
    "wordnet"
   ]
  },
  {
   "cell_type": "code",
   "execution_count": 3,
   "id": "5c0dbd50",
   "metadata": {},
   "outputs": [
    {
     "data": {
      "text/plain": [
       "[Synset('arouse.v.01'),\n",
       " Synset('wake_up.v.02'),\n",
       " Synset('raise.v.07'),\n",
       " Synset('stimulate.v.04'),\n",
       " Synset('awaken.v.01'),\n",
       " Synset('arouse.v.06'),\n",
       " Synset('arouse.v.07')]"
      ]
     },
     "execution_count": 3,
     "metadata": {},
     "output_type": "execute_result"
    }
   ],
   "source": [
    "wordnet.synsets('arouse')"
   ]
  },
  {
   "cell_type": "code",
   "execution_count": 5,
   "id": "357c8da5",
   "metadata": {},
   "outputs": [
    {
     "data": {
      "text/plain": [
       "[Lemma('happy.a.01.happy')]"
      ]
     },
     "execution_count": 5,
     "metadata": {},
     "output_type": "execute_result"
    }
   ],
   "source": [
    "wordnet.synsets('happy')[0].lemmas()"
   ]
  },
  {
   "cell_type": "code",
   "execution_count": 6,
   "id": "57800428",
   "metadata": {},
   "outputs": [
    {
     "name": "stdout",
     "output_type": "stream",
     "text": [
      "happy\n",
      "felicitous\n",
      "glad\n",
      "happy\n"
     ]
    }
   ],
   "source": [
    "for syn in wordnet.synsets('happy'):\n",
    "    print(syn.lemmas()[0].name())"
   ]
  },
  {
   "cell_type": "code",
   "execution_count": 7,
   "id": "4bc44968",
   "metadata": {},
   "outputs": [
    {
     "data": {
      "text/plain": [
       "{'arouse', 'awaken', 'raise', 'stimulate', 'wake_up'}"
      ]
     },
     "execution_count": 7,
     "metadata": {},
     "output_type": "execute_result"
    }
   ],
   "source": [
    "synonyms = set()\n",
    "for word in wordnet.synsets('arouse'):\n",
    "    synonyms.add(word.lemmas()[0].name())\n",
    "synonyms"
   ]
  },
  {
   "cell_type": "code",
   "execution_count": 8,
   "id": "4e0a0bc8",
   "metadata": {},
   "outputs": [
    {
     "name": "stdout",
     "output_type": "stream",
     "text": [
      "Synset: good.n.01\n",
      "     lemma name : good\n",
      "Synset: good.n.02\n",
      "     lemma name : good\n",
      "     lemma name : goodness\n",
      "Synset: good.n.03\n",
      "     lemma name : good\n",
      "     lemma name : goodness\n",
      "Synset: commodity.n.01\n",
      "     lemma name : commodity\n",
      "     lemma name : trade_good\n",
      "     lemma name : good\n",
      "Synset: good.a.01\n",
      "     lemma name : good\n",
      "Synset: full.s.06\n",
      "     lemma name : full\n",
      "     lemma name : good\n",
      "Synset: good.a.03\n",
      "     lemma name : good\n",
      "Synset: estimable.s.02\n",
      "     lemma name : estimable\n",
      "     lemma name : good\n",
      "     lemma name : honorable\n",
      "     lemma name : respectable\n",
      "Synset: beneficial.s.01\n",
      "     lemma name : beneficial\n",
      "     lemma name : good\n",
      "Synset: good.s.06\n",
      "     lemma name : good\n",
      "Synset: good.s.07\n",
      "     lemma name : good\n",
      "     lemma name : just\n",
      "     lemma name : upright\n",
      "Synset: adept.s.01\n",
      "     lemma name : adept\n",
      "     lemma name : expert\n",
      "     lemma name : good\n",
      "     lemma name : practiced\n",
      "     lemma name : proficient\n",
      "     lemma name : skillful\n",
      "     lemma name : skilful\n",
      "Synset: good.s.09\n",
      "     lemma name : good\n",
      "Synset: dear.s.02\n",
      "     lemma name : dear\n",
      "     lemma name : good\n",
      "     lemma name : near\n",
      "Synset: dependable.s.04\n",
      "     lemma name : dependable\n",
      "     lemma name : good\n",
      "     lemma name : safe\n",
      "     lemma name : secure\n",
      "Synset: good.s.12\n",
      "     lemma name : good\n",
      "     lemma name : right\n",
      "     lemma name : ripe\n",
      "Synset: good.s.13\n",
      "     lemma name : good\n",
      "     lemma name : well\n",
      "Synset: effective.s.04\n",
      "     lemma name : effective\n",
      "     lemma name : good\n",
      "     lemma name : in_effect\n",
      "     lemma name : in_force\n",
      "Synset: good.s.15\n",
      "     lemma name : good\n",
      "Synset: good.s.16\n",
      "     lemma name : good\n",
      "     lemma name : serious\n",
      "Synset: good.s.17\n",
      "     lemma name : good\n",
      "     lemma name : sound\n",
      "Synset: good.s.18\n",
      "     lemma name : good\n",
      "     lemma name : salutary\n",
      "Synset: good.s.19\n",
      "     lemma name : good\n",
      "     lemma name : honest\n",
      "Synset: good.s.20\n",
      "     lemma name : good\n",
      "     lemma name : undecomposed\n",
      "     lemma name : unspoiled\n",
      "     lemma name : unspoilt\n",
      "Synset: good.s.21\n",
      "     lemma name : good\n",
      "Synset: well.r.01\n",
      "     lemma name : well\n",
      "     lemma name : good\n",
      "Synset: thoroughly.r.02\n",
      "     lemma name : thoroughly\n",
      "     lemma name : soundly\n",
      "     lemma name : good\n"
     ]
    }
   ],
   "source": [
    "for syn in wordnet.synsets('good'):\n",
    "    print(f\"Synset: {syn.name()}\")\n",
    "    for lemma in syn.lemmas():\n",
    "        print(f\"     lemma name : {lemma.name()}\")\n",
    "\n",
    "#Synsets (has)→ meanings (are called)→ lemmas (are)→ actual word strings."
   ]
  },
  {
   "cell_type": "code",
   "execution_count": 9,
   "id": "9159d38d",
   "metadata": {},
   "outputs": [
    {
     "name": "stdout",
     "output_type": "stream",
     "text": [
      "station\n"
     ]
    }
   ],
   "source": [
    "# definition and examples\n",
    "a = wordnet.synsets(\"post\")[0].lemmas()[1].name()   # its a list of lemmas within list of synsets\n",
    "print(a)         # to extract the meaning in a string form --> use name()"
   ]
  },
  {
   "cell_type": "code",
   "execution_count": 10,
   "id": "5af23caa",
   "metadata": {},
   "outputs": [
    {
     "name": "stdout",
     "output_type": "stream",
     "text": [
      "Word and type:  post.n.01\n",
      "Synonyms : station\n",
      "Definition of the word : the position where someone (as a guard or sentry) stands or is assigned to stand\n",
      "Example : ['a soldier manned the entrance post', 'a sentry station']\n"
     ]
    }
   ],
   "source": [
    "synset = wordnet.synsets('post')\n",
    "print('Word and type: ', synset[0].name())\n",
    "print('Synonyms :', synset[0].lemmas()[1].name())\n",
    "print('Definition of the word :', synset[0].definition())\n",
    "print(\"Example :\",str(synset[0].examples()))"
   ]
  },
  {
   "cell_type": "code",
   "execution_count": 11,
   "id": "f3e935ab",
   "metadata": {},
   "outputs": [
    {
     "name": "stdout",
     "output_type": "stream",
     "text": [
      "sound.v.01\n",
      "sound\n",
      "sound.v.02\n",
      "sound\n",
      "go\n",
      "sound.v.03\n",
      "sound\n",
      "sound.v.04\n",
      "sound\n",
      "voice.v.02\n",
      "voice\n",
      "sound\n",
      "vocalize\n",
      "vocalise\n",
      "sound.v.06\n",
      "sound\n",
      "fathom.v.02\n",
      "fathom\n",
      "sound\n"
     ]
    }
   ],
   "source": [
    "# synonyms wrt to parts of speech\n",
    "for word in wordnet.synsets('sound', pos='v'):\n",
    "    print(word.name())\n",
    "    for lemma in word.lemmas():\n",
    "        print(lemma.name())"
   ]
  },
  {
   "cell_type": "code",
   "execution_count": 13,
   "id": "c57dcc95",
   "metadata": {},
   "outputs": [
    {
     "name": "stdout",
     "output_type": "stream",
     "text": [
      "The meanings of insolvency are as follows:\n",
      "insolvency.n.01 meaning :  the lack of financial resources\n"
     ]
    }
   ],
   "source": [
    "word = input('Enter a word: ')\n",
    "print(f\"The meanings of {word} are as follows:\")\n",
    "for word in wordnet.synsets(word):\n",
    "    print(word.name(),\"meaning : \",word.definition())"
   ]
  },
  {
   "cell_type": "code",
   "execution_count": 14,
   "id": "45c543a4",
   "metadata": {},
   "outputs": [
    {
     "data": {
      "text/plain": [
       "({'audio', 'phone', 'sound', 'strait'},\n",
       " {'fathom', 'sound', 'voice'},\n",
       " {'good', 'healthy', 'heavy', 'legal', 'reasoned', 'sound'})"
      ]
     },
     "execution_count": 14,
     "metadata": {},
     "output_type": "execute_result"
    }
   ],
   "source": [
    "# Extract specific pos from the word\n",
    "noun = set()\n",
    "adj = set()\n",
    "verb = set()\n",
    "\n",
    "for word in wordnet.synsets('sound',pos=\"n\"):\n",
    "    noun.add(word.lemmas()[0].name())\n",
    "for word in wordnet.synsets('sound',pos=\"v\"):\n",
    "    verb.add(word.lemmas()[0].name())\n",
    "for word in wordnet.synsets('sound',pos=\"a\"):\n",
    "    adj.add(word.lemmas()[0].name())\n",
    "\n",
    "noun, verb, adj"
   ]
  },
  {
   "cell_type": "code",
   "execution_count": null,
   "id": "060a6cc1",
   "metadata": {},
   "outputs": [
    {
     "data": {
      "text/plain": [
       "{'unhappy'}"
      ]
     },
     "execution_count": 15,
     "metadata": {},
     "output_type": "execute_result"
    }
   ],
   "source": [
    "# Antonyms\n",
    "ant = set()\n",
    "for synset in wordnet.synsets(\"happy\"):\n",
    "    for lemma in synset.lemmas():\n",
    "        if lemma.antonyms():\n",
    "            ant.add(lemma.antonyms()[0].name())\n",
    "ant"
   ]
  },
  {
   "cell_type": "code",
   "execution_count": 27,
   "id": "6e4e5f34",
   "metadata": {},
   "outputs": [
    {
     "name": "stdout",
     "output_type": "stream",
     "text": [
      "material.n.01\n",
      "object.n.01\n",
      "location.n.01\n",
      "element.n.05\n",
      "concern.n.01\n",
      "connection.n.03\n",
      "hide.v.02\n",
      "ground.v.11\n"
     ]
    }
   ],
   "source": [
    "# Hypernyms\n",
    "for synset in wordnet.synsets('earth'):\n",
    "    hyper = synset.hypernyms()\n",
    "    if hyper:\n",
    "        for h in hyper:\n",
    "            print(h.name())\n"
   ]
  },
  {
   "cell_type": "code",
   "execution_count": 34,
   "id": "72049f0b",
   "metadata": {},
   "outputs": [
    {
     "name": "stdout",
     "output_type": "stream",
     "text": [
      "reverse.n.02\n",
      "bumper.n.02\n",
      "car_seat.n.01\n",
      "high_gear.n.01\n",
      "third_gear.n.01\n",
      "window.n.02\n",
      "tail_fin.n.02\n",
      "running_board.n.01\n",
      "air_bag.n.01\n",
      "hood.n.09\n",
      "luggage_compartment.n.01\n",
      "automobile_engine.n.01\n",
      "roof.n.02\n",
      "gasoline_engine.n.01\n",
      "auto_accessory.n.01\n",
      "sunroof.n.01\n",
      "automobile_horn.n.01\n",
      "fender.n.01\n",
      "rear_window.n.01\n",
      "floorboard.n.02\n",
      "buffer.n.06\n",
      "glove_compartment.n.01\n",
      "car_window.n.01\n",
      "grille.n.02\n",
      "accelerator.n.01\n",
      "first_gear.n.01\n",
      "car_mirror.n.01\n",
      "stabilizer_bar.n.01\n",
      "car_door.n.01\n",
      "suspension.n.05\n"
     ]
    }
   ],
   "source": [
    "# Meronyms\n",
    "word = 'car'\n",
    "synset = wordnet.synsets(word)\n",
    "for syn in synset:\n",
    "    mernonyms = syn.part_meronyms()\n",
    "    if mernonyms:\n",
    "        for m in mernonyms:\n",
    "            print(m.name())"
   ]
  }
 ],
 "metadata": {
  "kernelspec": {
   "display_name": "nlp-env",
   "language": "python",
   "name": "python3"
  },
  "language_info": {
   "codemirror_mode": {
    "name": "ipython",
    "version": 3
   },
   "file_extension": ".py",
   "mimetype": "text/x-python",
   "name": "python",
   "nbconvert_exporter": "python",
   "pygments_lexer": "ipython3",
   "version": "3.11.0"
  }
 },
 "nbformat": 4,
 "nbformat_minor": 5
}
